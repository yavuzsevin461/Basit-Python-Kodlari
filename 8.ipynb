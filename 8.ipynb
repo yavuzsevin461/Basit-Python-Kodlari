{
  "cells": [
    {
      "metadata": {
        "trusted": true
      },
      "cell_type": "code",
      "source": "class Ucak() :\n    def __init__(self,ucak_adi,ucak_kodu,ucak_turu,uretim_yili,yolcu_kapasitesi):  \n        self.ucak_adi=ucak_adi\n        self.ucak_kodu=ucak_kodu\n        self.ucak_turu=ucak_turu\n        self.uretim_yili=uretim_yili\n        self.yolcu_kapasitesi=yolcu_kapasitesi\n        self.ucak_bakim_durum=False\n    def bakim_tanimla(self,durum):\n        self.ucak_bakim_durum=durum  \n    def bakim_durum(self):\n        if self.ucak_bakim_durum == True:\n            print(\"bakım tamam.\")\n        else :\n            print(\"bakım gerekiyor.\")",
      "execution_count": 150,
      "outputs": []
    },
    {
      "metadata": {
        "trusted": true
      },
      "cell_type": "code",
      "source": "tk223=Ucak(\"f16\",\"TK223\",\"boeing61\",2014,5)",
      "execution_count": 151,
      "outputs": []
    },
    {
      "metadata": {
        "trusted": true
      },
      "cell_type": "code",
      "source": "tk223.bakim_durum()",
      "execution_count": 154,
      "outputs": [
        {
          "output_type": "stream",
          "text": "bakım tamam.\n",
          "name": "stdout"
        }
      ]
    },
    {
      "metadata": {
        "trusted": true
      },
      "cell_type": "code",
      "source": "tk223.bakim_tanimla(True)",
      "execution_count": 153,
      "outputs": []
    },
    {
      "metadata": {
        "trusted": true
      },
      "cell_type": "code",
      "source": "class Yolcu() :\n    def __init__(self,yolcu_adi_soyadi,yolcu_TC,yolcu_yasi,odenen_tutar) :\n        self.yolcu_adi_soyadi=yolcu_adi_soyadi\n        self.yolcu_TC=yolcu_TC\n        self.yolcu_yasi=yolcu_yasi\n        self.mil=0\n    def mil_ekle(self,tutar):\n        self.mil=self.mil+tutar*0.1\n    def mil_goster(self):\n        print(\"yolcu mil puanı\",self.mil)\n    def yolcu_bilgi_goster(self):\n        print(self.yolcu_adi_soyadi,self.yolcu_TC,self.yolcu_yasi)   ",
      "execution_count": 175,
      "outputs": []
    },
    {
      "metadata": {
        "trusted": true
      },
      "cell_type": "code",
      "source": "byolcu=Yolcu(\"Hami Tüylü\",\"158925888\",\"19\",\"500\")",
      "execution_count": 176,
      "outputs": []
    },
    {
      "metadata": {
        "trusted": true
      },
      "cell_type": "code",
      "source": "byolcu.mil_goster()",
      "execution_count": 177,
      "outputs": [
        {
          "output_type": "stream",
          "text": "yolcu mil puanı 0\n",
          "name": "stdout"
        }
      ]
    },
    {
      "metadata": {
        "trusted": true
      },
      "cell_type": "code",
      "source": "byolcu.mil_ekle(500)",
      "execution_count": 178,
      "outputs": []
    },
    {
      "metadata": {
        "trusted": true
      },
      "cell_type": "code",
      "source": "byolcu.mil_goster()",
      "execution_count": 179,
      "outputs": [
        {
          "output_type": "stream",
          "text": "yolcu mil puanı 50.0\n",
          "name": "stdout"
        }
      ]
    },
    {
      "metadata": {
        "trusted": true
      },
      "cell_type": "code",
      "source": "byolcu.yolcu_bilgi_goster()",
      "execution_count": 180,
      "outputs": [
        {
          "output_type": "stream",
          "text": "Hami Tüylü 158925888 19\n",
          "name": "stdout"
        }
      ]
    },
    {
      "metadata": {
        "trusted": true
      },
      "cell_type": "code",
      "source": "class Ucus() :\n    def __init__(self,adi,kod,tarih,kalkis,inis):\n        self.adi=ucus_adi\n        self.kod=ucus_kodu\n        self.tarih=ucus_tarihi\n        self.kalkis=kalkis_yeri\n        self.inis=inis_yeri\n        self.ucak=0\n        self.personel=[]\n        self.yolcular=[]\n    def personel_ekle(self,personel):\n        self.personel=personel\n    def personel_gorev_ekle(self,gorev):\n        self.personel.append(gorev)\n    def personel_gorev_goster(self):\n        for i in self.gorev:\n            print(i.goster)\n    def ucak_ekle(self,ucak):\n        self.ucak=ucak\n    def ucak_bakimlimi(self):\n        self.ucak.bakim_durum()\n    def yolcu_ekle(self,yolcu):\n        self.yolcular.append(yolcu)\n    def yolculari_goster(self):\n        for i in self.yolcular:\n            print(i.goster())\n\n        ",
      "execution_count": 184,
      "outputs": []
    },
    {
      "metadata": {
        "trusted": true
      },
      "cell_type": "code",
      "source": "class personel():\n    def __init__(self,sicil,isim,tel):\n        self.sicil=sicil\n        self.isim=isim\n        self.tel=tel\n        self.gorevler=[]\n    def gorev_ekle(self,gorev):\n        self.gorevler.append(gorev)\n    def gorev_goster(self):\n        for i in self.gorevler:\n            print(i.gorev_goster)",
      "execution_count": 185,
      "outputs": []
    },
    {
      "metadata": {
        "trusted": true
      },
      "cell_type": "code",
      "source": "",
      "execution_count": null,
      "outputs": []
    }
  ],
  "metadata": {
    "kernelspec": {
      "name": "python3",
      "display_name": "Python 3",
      "language": "python"
    },
    "language_info": {
      "mimetype": "text/x-python",
      "nbconvert_exporter": "python",
      "name": "python",
      "file_extension": ".py",
      "version": "3.5.4",
      "pygments_lexer": "ipython3",
      "codemirror_mode": {
        "version": 3,
        "name": "ipython"
      }
    }
  },
  "nbformat": 4,
  "nbformat_minor": 2
}