{
  "cells": [
    {
      "cell_type": "code",
      "execution_count": 1,
      "metadata": {
        "trusted": true
      },
      "outputs": [
        {
          "name": "stdout",
          "output_type": "stream",
          "text": [
            "sayı giriniz:5\n",
            "sayı girin:6\n",
            "sayı girin:8\n",
            "sayı girin:7\n",
            "sayı girin:9\n",
            "sayı girin:51\n",
            "sayı girin:2\n",
            "sayı girin:23\n",
            "8 sayı girdiniz\n"
          ]
        }
      ],
      "source": [
        "s=0\n",
        "sayi=int(input(\"sayı giriniz:\"))\n",
        "while (sayi):\n",
        "    s=s+1\n",
        "    if sayi==23:\n",
        "        break\n",
        "    sayi=int(input(\"sayı girin:\"))\n",
        "print(s,\"sayı girdiniz\")"
      ]
    },
    {
      "cell_type": "code",
      "execution_count": null,
      "metadata": {
        "trusted": true
      },
      "outputs": [],
      "source": []
    },
    {
      "cell_type": "code",
      "execution_count": null,
      "metadata": {
        "trusted": true
      },
      "outputs": [],
      "source": []
    }
  ],
  "metadata": {
    "kernelspec": {
      "display_name": "Python 3",
      "language": "python",
      "name": "python3"
    },
    "language_info": {
      "codemirror_mode": {
        "name": "ipython",
        "version": 3
      },
      "file_extension": ".py",
      "mimetype": "text/x-python",
      "name": "python",
      "nbconvert_exporter": "python",
      "pygments_lexer": "ipython3",
      "version": "3.5.4"
    }
  },
  "nbformat": 4,
  "nbformat_minor": 2
}
