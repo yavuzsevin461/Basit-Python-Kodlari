{
  "cells": [
    {
      "cell_type": "markdown",
      "metadata": {},
      "source": [
        "\n",
        "1.Yukarıda verilen tabloları Python programlama dili ile Sqlite üzerinde banka_musteriler.db veritabanı altında oluşturun. (20 Puan)\n"
      ]
    },
    {
      "cell_type": "code",
      "execution_count": 1,
      "metadata": {
        "trusted": true
      },
      "outputs": [],
      "source": [
        "import sqlite3\n",
        "con=sqlite3.connect('banka_musterileri.db')\n",
        "cur=con.cursor()\n",
        "cur.execute(\"\"\"CREATE TABLE if not exists Musteri(\n",
        "            TC INT PRIMARY KEY,\n",
        "            Ad_Soyad Text,\n",
        "            Dogum_Tarihi Text,\n",
        "            Dogum_Yeri Text,\n",
        "            Cinsiyet Text)\"\"\")\n",
        "cur.execute(\"\"\"CREATE TABLE if not exists Musteri_Hesap_Hareketleri(\n",
        "            Id INT PRIMARY KEY,\n",
        "            Islem_Turu Text,\n",
        "            Tutar Text,\n",
        "            Musteri_TC Text,\n",
        "            Hesap_Id Text,\n",
        "            Islem_Tarihi Text)\"\"\")\n",
        "cur.execute(\"\"\"CREATE TABLE if not exists Musteri_Hesap(\n",
        "            Id INT PRIMARY KEY,\n",
        "            Hesap_Adi Text,\n",
        "            Hesap_acilis_tarihi Text,\n",
        "            Hesap_turu Text,\n",
        "            Bakiye INT)\"\"\")\n",
        "con.commit()\n",
        "con.close()"
      ]
    },
    {
      "cell_type": "code",
      "execution_count": 3,
      "metadata": {
        "trusted": true
      },
      "outputs": [
        {
          "ename": "IntegrityError",
          "evalue": "UNIQUE constraint failed: Musteri.TC",
          "output_type": "error",
          "traceback": [
            "\u001b[0;31m---------------------------------------------------------------------------\u001b[0m",
            "\u001b[0;31mIntegrityError\u001b[0m                            Traceback (most recent call last)",
            "\u001b[0;32m<ipython-input-3-09e91a3d80d5>\u001b[0m in \u001b[0;36m<module>\u001b[0;34m()\u001b[0m\n\u001b[1;32m      2\u001b[0m \u001b[0mcon\u001b[0m\u001b[0;34m=\u001b[0m\u001b[0msqlite3\u001b[0m\u001b[0;34m.\u001b[0m\u001b[0mconnect\u001b[0m\u001b[0;34m(\u001b[0m\u001b[0;34m'banka_musterileri.db'\u001b[0m\u001b[0;34m)\u001b[0m\u001b[0;34m\u001b[0m\u001b[0m\n\u001b[1;32m      3\u001b[0m \u001b[0mcur\u001b[0m\u001b[0;34m=\u001b[0m\u001b[0mcon\u001b[0m\u001b[0;34m.\u001b[0m\u001b[0mcursor\u001b[0m\u001b[0;34m(\u001b[0m\u001b[0;34m)\u001b[0m\u001b[0;34m\u001b[0m\u001b[0m\n\u001b[0;32m----> 4\u001b[0;31m \u001b[0mcur\u001b[0m\u001b[0;34m.\u001b[0m\u001b[0mexecute\u001b[0m\u001b[0;34m(\u001b[0m\u001b[0;34m\"\"\"Insert into Musteri Values(12345678991,\"Ramazan Aydoğan\",\"23.03.1983\",\"Bağlum\",\"Erkek\")\"\"\"\u001b[0m\u001b[0;34m)\u001b[0m\u001b[0;34m\u001b[0m\u001b[0m\n\u001b[0m\u001b[1;32m      5\u001b[0m \u001b[0mcur\u001b[0m\u001b[0;34m.\u001b[0m\u001b[0mexecute\u001b[0m\u001b[0;34m(\u001b[0m\u001b[0;34m\"\"\"Insert into Musteri Values(98765432111,\"Ahmet Demir\",\"23.01.1981\",\"Ankara\",\"Erkek\")\"\"\"\u001b[0m\u001b[0;34m)\u001b[0m\u001b[0;34m\u001b[0m\u001b[0m\n\u001b[1;32m      6\u001b[0m \u001b[0mcur\u001b[0m\u001b[0;34m.\u001b[0m\u001b[0mexecute\u001b[0m\u001b[0;34m(\u001b[0m\u001b[0;34m\"\"\"Insert into Musteri Values(93765432133,\"Ayşe Bayburtlu\",\"23.07.1965\",\"Kayseri\",\"Kız\")\"\"\"\u001b[0m\u001b[0;34m)\u001b[0m\u001b[0;34m\u001b[0m\u001b[0m\n",
            "\u001b[0;31mIntegrityError\u001b[0m: UNIQUE constraint failed: Musteri.TC"
          ]
        }
      ],
      "source": [
        "import sqlite3\n",
        "con=sqlite3.connect('banka_musterileri.db')\n",
        "cur=con.cursor()\n",
        "cur.execute(\"\"\"Insert into Musteri Values(12345678991,\"Ramazan Aydoğan\",\"23.03.1983\",\"Bağlum\",\"Erkek\")\"\"\")\n",
        "cur.execute(\"\"\"Insert into Musteri Values(98765432111,\"Ahmet Demir\",\"23.01.1981\",\"Ankara\",\"Erkek\")\"\"\")\n",
        "cur.execute(\"\"\"Insert into Musteri Values(93765432133,\"Ayşe Bayburtlu\",\"23.07.1965\",\"Kayseri\",\"Kız\")\"\"\")\n",
        "cur.execute(\"\"\"Insert into Musteri_Hesap_Hareketleri Values(2323,\"Kira\",\"1.023 TL\",\"12345678991\",\"1\",\"06.05.2019\")\"\"\")\n",
        "cur.execute(\"\"\"Insert into Musteri_Hesap_Hareketleri Values(2324,\"Havale\",\"2.300 TL\",\"93765432133\",\"2\",\"13.05.2019\")\"\"\")\n",
        "con.commit()\n",
        "con.close"
      ]
    },
    {
      "cell_type": "code",
      "execution_count": null,
      "metadata": {
        "trusted": true
      },
      "outputs": [],
      "source": []
    },
    {
      "cell_type": "code",
      "execution_count": null,
      "metadata": {
        "trusted": true
      },
      "outputs": [],
      "source": []
    },
    {
      "cell_type": "code",
      "execution_count": null,
      "metadata": {
        "trusted": true
      },
      "outputs": [],
      "source": []
    }
  ],
  "metadata": {
    "kernelspec": {
      "display_name": "Python 3",
      "language": "python",
      "name": "python3"
    },
    "language_info": {
      "codemirror_mode": {
        "name": "ipython",
        "version": 3
      },
      "file_extension": ".py",
      "mimetype": "text/x-python",
      "name": "python",
      "nbconvert_exporter": "python",
      "pygments_lexer": "ipython3",
      "version": "3.5.4"
    }
  },
  "nbformat": 4,
  "nbformat_minor": 2
}
