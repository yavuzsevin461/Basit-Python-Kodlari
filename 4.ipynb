{
  "cells": [
    {
      "cell_type": "markdown",
      "metadata": {
        "collapsed": true
      },
      "source": [
        "1\n"
      ]
    },
    {
      "cell_type": "code",
      "execution_count": 51,
      "metadata": {
        "trusted": true
      },
      "outputs": [],
      "source": [
        "class ATM():\n",
        "    def __init__(self,sifre,bakiye):\n",
        "        self.sifre=sifre\n",
        "        self.bakiye=bakiye\n",
        "   \n",
        "    def Sifre(self,sifre):\n",
        "        if sifre==self.sifre:\n",
        "            print(\"sifre doğru\")\n",
        "        else:\n",
        "            print(\"sifre yanlıs\")\n",
        "    \n",
        "    def para_yatirma(self,tutar):\n",
        "        self.bakiye  += tutar\n",
        "        print(self.bakiye)\n",
        "    \n",
        "    def para_cekme(self,tutar):\n",
        "        self.bakiye -=tutar\n",
        "        print(self.bakiye)\n",
        "    \n",
        "    def bilgi_goster(self):\n",
        "        print(\"bakiye\",self.bakiye)\n",
        "        \n",
        "        \n",
        "        \n",
        "        "
      ]
    },
    {
      "cell_type": "code",
      "execution_count": 52,
      "metadata": {
        "trusted": true
      },
      "outputs": [],
      "source": [
        "hesap1=ATM(1234,3000)"
      ]
    },
    {
      "cell_type": "code",
      "execution_count": 53,
      "metadata": {
        "trusted": true
      },
      "outputs": [
        {
          "name": "stdout",
          "output_type": "stream",
          "text": [
            "sifre doğru\n"
          ]
        }
      ],
      "source": [
        "hesap1.Sifre(1234)"
      ]
    },
    {
      "cell_type": "code",
      "execution_count": 54,
      "metadata": {
        "trusted": true
      },
      "outputs": [
        {
          "name": "stdout",
          "output_type": "stream",
          "text": [
            "sifre yanlıs\n"
          ]
        }
      ],
      "source": [
        "hesap1.Sifre(1235)"
      ]
    },
    {
      "cell_type": "code",
      "execution_count": 55,
      "metadata": {
        "trusted": true
      },
      "outputs": [
        {
          "name": "stdout",
          "output_type": "stream",
          "text": [
            "2940\n"
          ]
        }
      ],
      "source": [
        "hesap1.para_cekme(60)"
      ]
    },
    {
      "cell_type": "code",
      "execution_count": 56,
      "metadata": {
        "trusted": true
      },
      "outputs": [
        {
          "name": "stdout",
          "output_type": "stream",
          "text": [
            "3540\n"
          ]
        }
      ],
      "source": [
        "hesap1.para_yatirma(600)"
      ]
    },
    {
      "cell_type": "code",
      "execution_count": null,
      "metadata": {
        "trusted": true
      },
      "outputs": [],
      "source": []
    },
    {
      "cell_type": "markdown",
      "metadata": {},
      "source": [
        "2"
      ]
    },
    {
      "cell_type": "code",
      "execution_count": 105,
      "metadata": {
        "trusted": true
      },
      "outputs": [],
      "source": [
        "class Kitaplik():\n",
        "    def __init__(self,tc,ad):\n",
        "        self.tc=tc\n",
        "        self.ad=ad\n",
        "        \n",
        "    def bilgi_goster(self):\n",
        "        print(self.tc,'-',self.ad)   \n",
        "        \n",
        "    def kitap_ekle(self,kitap_ad,kitap_kod):\n",
        "        with open(\"kitap.txt\",\"a\",encoding='utf-8') as file:\n",
        "            file.write(kitap_ad)\n",
        "            file.write(\",\")\n",
        "            file.write(kitap_kod)\n",
        "            file.write(\"\\n\")\n",
        "    def kitaplik_incele(self):\n",
        "        with open(\"kitap.txt\",\"r\",encoding='utf-8') as file:\n",
        "            print(file.read())\n",
        "            "
      ]
    },
    {
      "cell_type": "code",
      "execution_count": 106,
      "metadata": {
        "trusted": true
      },
      "outputs": [],
      "source": [
        "adnan=Kitaplik(15710,\"adnan\")"
      ]
    },
    {
      "cell_type": "code",
      "execution_count": 107,
      "metadata": {
        "trusted": true
      },
      "outputs": [
        {
          "name": "stdout",
          "output_type": "stream",
          "text": [
            "15710 - adnan\n"
          ]
        }
      ],
      "source": [
        "adnan.bilgi_goster()"
      ]
    },
    {
      "cell_type": "code",
      "execution_count": 108,
      "metadata": {
        "trusted": true
      },
      "outputs": [],
      "source": [
        "adnan.kitap_ekle(\"kramazow kardeşler\",\"12345\")"
      ]
    },
    {
      "cell_type": "code",
      "execution_count": 109,
      "metadata": {
        "trusted": true
      },
      "outputs": [
        {
          "name": "stdout",
          "output_type": "stream",
          "text": [
            "kramazow kardeşler,12345\n",
            "\n"
          ]
        }
      ],
      "source": [
        "adnan.kitaplik_incele()"
      ]
    },
    {
      "cell_type": "code",
      "execution_count": 110,
      "metadata": {
        "trusted": true
      },
      "outputs": [],
      "source": [
        "adnan.kitap_ekle(\"bozkurtlar diriliyor\",\"12222\")"
      ]
    },
    {
      "cell_type": "code",
      "execution_count": 111,
      "metadata": {
        "trusted": true
      },
      "outputs": [
        {
          "name": "stdout",
          "output_type": "stream",
          "text": [
            "kramazow kardeşler,12345\n",
            "bozkurtlar diriliyor,12222\n",
            "\n"
          ]
        }
      ],
      "source": [
        "adnan.kitaplik_incele()"
      ]
    },
    {
      "cell_type": "markdown",
      "metadata": {},
      "source": [
        "3\n"
      ]
    },
    {
      "cell_type": "code",
      "execution_count": 120,
      "metadata": {
        "trusted": true
      },
      "outputs": [],
      "source": [
        "class Ogrenci():\n",
        "    def __init__(self,no):\n",
        "        self.no=no\n",
        "    \n",
        "    def bilgileri_yaz(self,no,ad,bolum,email):\n",
        "        with open(\"Ogrenciler.txt\",'a') as file:\n",
        "            file.write(no)\n",
        "            file.write(\",\")\n",
        "            file.write(ad)\n",
        "            file.write(\",\")\n",
        "            file.write(bolum)\n",
        "            file.write(\",\")\n",
        "            file.write(email)\n",
        "            file.write(\"\\n\")\n",
        "    def bilgi_goster(self):\n",
        "        with open(\"Ogrenciler.txt\",'r') as file:\n",
        "            print(file.read())\n",
        "            "
      ]
    },
    {
      "cell_type": "code",
      "execution_count": 121,
      "metadata": {
        "trusted": true
      },
      "outputs": [],
      "source": [
        "a=Ogrenci(61)"
      ]
    },
    {
      "cell_type": "code",
      "execution_count": 123,
      "metadata": {
        "trusted": true
      },
      "outputs": [],
      "source": [
        "a.bilgileri_yaz(\"61\",\"kamil\",\"bilgisayar\",\"kamil@gmail.com\")"
      ]
    },
    {
      "cell_type": "code",
      "execution_count": 124,
      "metadata": {
        "trusted": true
      },
      "outputs": [
        {
          "name": "stdout",
          "output_type": "stream",
          "text": [
            "61,kamil,bilgisayar,kamil@gmail.com\n",
            "\n"
          ]
        }
      ],
      "source": [
        "a.bilgi_goster()"
      ]
    },
    {
      "cell_type": "code",
      "execution_count": null,
      "metadata": {
        "trusted": true
      },
      "outputs": [],
      "source": []
    }
  ],
  "metadata": {
    "kernelspec": {
      "display_name": "Python 3",
      "language": "python",
      "name": "python3"
    },
    "language_info": {
      "codemirror_mode": {
        "name": "ipython",
        "version": 3
      },
      "file_extension": ".py",
      "mimetype": "text/x-python",
      "name": "python",
      "nbconvert_exporter": "python",
      "pygments_lexer": "ipython3",
      "version": "3.5.4"
    }
  },
  "nbformat": 4,
  "nbformat_minor": 2
}
