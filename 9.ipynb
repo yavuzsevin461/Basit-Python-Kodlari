{
  "cells": [
    {
      "metadata": {
        "trusted": true
      },
      "cell_type": "code",
      "source": "class Araclar():\n    def __init__(self,ad,model,renk,uyili,yakit_turu):\n        self.ad=ad\n        self.model=model\n        self.renk=renk\n        self.uyili=uyili\n        self.yakit_turu=yakit_turu\n        \n    def bilgi_goster(self):\n        print(self.ad,self.model,self.renk,self.uyili,self.yakit_turu)\n    \n    def hizlan(self,x):\n        print(x,\"km hızlandı\")\n      ",
      "execution_count": 1,
      "outputs": []
    },
    {
      "metadata": {
        "trusted": true
      },
      "cell_type": "code",
      "source": "class KaraAraclari(Araclar):\n    #yolcu kapasitesi,tekerlek sayisi,kapi sayisi\n    def __init__(self,ad,model,renk,uyili,yakit_turu,yolcu_kapasitesi,tekerlek_sayisi,kapi_sayisi):\n        super().__init__(ad,model,renk,uyili,yakit_turu)\n        self.yolcu_kapasitesi=yolcu_kapasitesi\n        self.tekerlek_sayisi=tekerlek_sayisi\n        self.kapi_sayisi=kapi_sayisi\n    def lastik_degistir(self,mevsim_turu):\n        print(mevsim_turu,\"lastik takıldı.\")    ",
      "execution_count": 3,
      "outputs": []
    },
    {
      "metadata": {
        "trusted": true
      },
      "cell_type": "code",
      "source": "iarabasi=KaraAraclari(\"corolla\",\"toyota\",\"gümüs gri\",\"1996\",\"lpg+dizel\",5,4,4)",
      "execution_count": 5,
      "outputs": []
    },
    {
      "metadata": {
        "trusted": true
      },
      "cell_type": "code",
      "source": "iarabasi.bilgi_goster()",
      "execution_count": 6,
      "outputs": [
        {
          "output_type": "stream",
          "text": "corolla toyota gümüs gri 1996 lpg+dizel\n",
          "name": "stdout"
        }
      ]
    },
    {
      "metadata": {
        "trusted": true
      },
      "cell_type": "code",
      "source": "iarabasi.hizlan(180)",
      "execution_count": 7,
      "outputs": [
        {
          "output_type": "stream",
          "text": "180 km hızlandı\n",
          "name": "stdout"
        }
      ]
    },
    {
      "metadata": {
        "trusted": true
      },
      "cell_type": "code",
      "source": "iarabasi.lastik_degistir(\"kışlık\")",
      "execution_count": 8,
      "outputs": [
        {
          "output_type": "stream",
          "text": "kışlık lastik takıldı.\n",
          "name": "stdout"
        }
      ]
    },
    {
      "metadata": {
        "trusted": true
      },
      "cell_type": "code",
      "source": "class DemiryoluAraclari(Araclar):\n    #vagon_sayisi,vagon_tipi,tasima_tipi\n    def __init__(self,ad,model,renk,uyili,yakit_turu,vagon_sayisi,vagon_tipi,tasima_tipi):\n        Araclar.__init__(self,ad,model,renk,uyili,yakit_turu)\n        self.vagon_sayisi=vagon_sayisi\n        self.vagon_tipi=vagon_tipi\n        self.tasima_tipi=tasima_tipi\n        \n    def vagon_ekle(self,eklenecek_vagon_sayisi):\n        self.vagon_sayisi=self.vagon_sayisi+eklenecek_vagon_sayisi\n        print(\"yeni\",eklenecek_vagon_sayisi,\"vagon eklendi\") ",
      "execution_count": 22,
      "outputs": []
    },
    {
      "metadata": {
        "trusted": true
      },
      "cell_type": "code",
      "source": "yht=DemiryoluAraclari(\"yht\",\"siemens\",\"beyaz\",\"2019\",\"elektrik\",10,\"yolcu\",\"yolcu\")",
      "execution_count": 23,
      "outputs": []
    },
    {
      "metadata": {
        "trusted": true
      },
      "cell_type": "code",
      "source": "yht.vagon_ekle(5)",
      "execution_count": 24,
      "outputs": [
        {
          "output_type": "stream",
          "text": "yeni 5 vagon eklendi\n",
          "name": "stdout"
        }
      ]
    },
    {
      "metadata": {
        "trusted": true
      },
      "cell_type": "code",
      "source": "class HavayoluAraclari(Araclar):\n    #kanat_uzunlugu,ucus_mesafasi,en_yuksek_hiz\n    def __init__(self,ad,model,renk,uyili,yakit_turu,kanat_uzunlugu,ucus_mesafesi,en_yuksek_hiz):\n        Araclar.__init__(self,ad,model,renk,uyili,yakit_turu)\n        self.kanat_uzunlugu=kanat_uzunlugu\n        self.ucus_mesafesi=ucus_mesafesi\n        self.en_yuksek_hiz=en_yuksek_hiz\n    def inis_takimi_ac(self):\n        print(\"iniş takımları açıldı...\")",
      "execution_count": 33,
      "outputs": []
    },
    {
      "metadata": {
        "trusted": true
      },
      "cell_type": "code",
      "source": "f16=HavayoluAraclari(\"f16\",\"marka\",\"gri\",\"2010\",\"jet_yakiti\",\"30metre\",\"500mil\",\"500km\")",
      "execution_count": 34,
      "outputs": []
    },
    {
      "metadata": {
        "trusted": true
      },
      "cell_type": "code",
      "source": "f16.bilgi_goster()",
      "execution_count": 35,
      "outputs": [
        {
          "output_type": "stream",
          "text": "f16 marka gri 2010 jet_yakiti\n",
          "name": "stdout"
        }
      ]
    },
    {
      "metadata": {
        "trusted": true
      },
      "cell_type": "code",
      "source": "f16.inis_takimi_ac()",
      "execution_count": 36,
      "outputs": [
        {
          "output_type": "stream",
          "text": "iniş takımları açıldı...\n",
          "name": "stdout"
        }
      ]
    },
    {
      "metadata": {
        "trusted": true
      },
      "cell_type": "code",
      "source": "",
      "execution_count": null,
      "outputs": []
    }
  ],
  "metadata": {
    "kernelspec": {
      "name": "python3",
      "display_name": "Python 3",
      "language": "python"
    },
    "language_info": {
      "mimetype": "text/x-python",
      "nbconvert_exporter": "python",
      "name": "python",
      "file_extension": ".py",
      "version": "3.5.4",
      "pygments_lexer": "ipython3",
      "codemirror_mode": {
        "version": 3,
        "name": "ipython"
      }
    }
  },
  "nbformat": 4,
  "nbformat_minor": 2
}