{
  "cells": [
    {
      "metadata": {
        "trusted": true
      },
      "cell_type": "code",
      "source": "class ders() :\n    def __init__(self,ders_adi,ders_kodu,ogr_sayisi):\n        self.ders_adi=ders_adi\n        self.ders_kodu=ders_kodu\n        self.ogr_sayisi=ogr_sayisi\n        self.sayi=0\n    def derse_ogrenci_ekle(self) :\n            self.ogr_sayisi=self.ogr_sayisi+1\n    def dersi_alan_ogrenci_sayisi(self): \n        print(\"dersi alan ogr sayisi=\",self.ogr_sayisi)\n",
      "execution_count": 26,
      "outputs": []
    },
    {
      "metadata": {
        "trusted": true
      },
      "cell_type": "code",
      "source": "bilgisayar_prg=ders(\"Bilgisayar programlama\",\"py101\",5)",
      "execution_count": 27,
      "outputs": []
    },
    {
      "metadata": {
        "trusted": true
      },
      "cell_type": "code",
      "source": "bilgisayar_prg.derse_ogrenci_ekle()",
      "execution_count": 28,
      "outputs": []
    },
    {
      "metadata": {
        "trusted": true
      },
      "cell_type": "code",
      "source": "bilgisayar_prg.dersi_alan_ogrenci_sayisi()",
      "execution_count": 29,
      "outputs": [
        {
          "output_type": "stream",
          "text": "dersi alan ogr sayisi= 6\n",
          "name": "stdout"
        }
      ]
    },
    {
      "metadata": {
        "trusted": true
      },
      "cell_type": "code",
      "source": "class ogrenci():\n    def __init__(self,yas,sinif):\n        self.yas=yas\n        self.sinif=sinif\n        self.dersler=[]\n    def ders_ekle(self):\n        a= input(\"ders adı=\")\n        self.dersler=self.dersler[a]\n    def bilgi_goster(self):\n        print(\"yaş:\",self.yas,\"sınıf:\",self.sinif)\n    def dersleri_goster(self):\n        print(self.dersler)\n        ",
      "execution_count": null,
      "outputs": []
    },
    {
      "metadata": {
        "trusted": true
      },
      "cell_type": "code",
      "source": "",
      "execution_count": null,
      "outputs": []
    }
  ],
  "metadata": {
    "kernelspec": {
      "name": "python3",
      "display_name": "Python 3",
      "language": "python"
    },
    "language_info": {
      "mimetype": "text/x-python",
      "nbconvert_exporter": "python",
      "name": "python",
      "pygments_lexer": "ipython3",
      "version": "3.5.4",
      "file_extension": ".py",
      "codemirror_mode": {
        "version": 3,
        "name": "ipython"
      }
    }
  },
  "nbformat": 4,
  "nbformat_minor": 2
}