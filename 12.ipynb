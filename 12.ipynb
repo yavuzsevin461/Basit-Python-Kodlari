{
  "cells": [
    {
      "metadata": {
        "collapsed": true,
        "trusted": false
      },
      "cell_type": "code",
      "source": "sayi1 = int(input(\"birinci sayiyi giriniz\"))\nsayi2 = int(input(\"ikinci sayiyi giriniz\"))\nislem = int(input(\"yapılacak işlem seçiniz ==> 1:toplama 2:çıkartma 3:bölme 4:çarpma\"))\nif islem==1:\n    sonuc=sayi1+sayi2\n    print(\"sonuç=\",sonuc)\nelif islem==2:\n    sonuc=sayi1-sayi2\n    print(\"sonuc=\",sonuc)\nelif islem==3:\n    sonuc=sayi1/sayi2\n    print(\"sonuc=\",sonuc)\nelif islem==4:\n    sonuc=sayi1*sayi2\n    print(\"sonuc=\",sonuc)\nelse :\n    print(\"HATA!!!\")",
      "execution_count": null,
      "outputs": []
    },
    {
      "metadata": {
        "trusted": true
      },
      "cell_type": "code",
      "source": "",
      "execution_count": null,
      "outputs": []
    }
  ],
  "metadata": {
    "kernelspec": {
      "display_name": "Python 3",
      "name": "python3",
      "language": "python"
    },
    "language_info": {
      "mimetype": "text/ x - python",
      "nbconvert_exporter": "python",
      "version": "3.5.1",
      "name": "python",
      "file_extension": ".py",
      "pygments_lexer": "ipython2",
      "codemirror_mode": {
        "version": 2,
        "name": "ipython"
      }
    }
  },
  "nbformat": 4,
  "nbformat_minor": 2
}