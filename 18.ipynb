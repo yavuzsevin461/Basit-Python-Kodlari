{
  "cells": [
    {
      "metadata": {
        "collapsed": true,
        "trusted": false
      },
      "cell_type": "code",
      "source": "x = int(input(\"bir x sayısı giriniz:\"))\ny = int(input(\"bir y sayısı giriniz\"))\nif x>y :\n    print(\"x\")",
      "execution_count": null,
      "outputs": []
    },
    {
      "metadata": {
        "trusted": true
      },
      "cell_type": "code",
      "source": "x = int(input(\"bir x sayısı giriniz:\"))\nif x%2==0 :\n    print(x,\"çift sayıdır\")\nelse :\n    print(x,\"tek sayıdır\")",
      "execution_count": 4,
      "outputs": [
        {
          "output_type": "stream",
          "name": "stdout",
          "text": "bir x sayısı giriniz:-8\n-8 çift sayıdır\n"
        }
      ]
    },
    {
      "metadata": {
        "trusted": true
      },
      "cell_type": "code",
      "source": "x = int(input(\"x sayısı giriniz:\"))\ny = int(input(\"y sayısı giriniz:\"))\nz = int(input(\"z sayısı giriniz:\"))\nif x>y and x>z:\n    print(x,\"sayısı\",y,\"ve\",z,\"sayısındandaha büyüktür.\")\nelif y>x and y>z:\n    print(y,\"sayısı\",x,\"ve\",z,\"sayısından daha büyüktür.\")\nelif z>x and z>y:\n    print(z,\"sayısı\",x,\"ve\",y,\"sayısından daha büyüktür.\")",
      "execution_count": 7,
      "outputs": [
        {
          "output_type": "stream",
          "name": "stdout",
          "text": "x sayısı giriniz:2\ny sayısı giriniz:4\nz sayısı giriniz:6\n6 sayısı 2 ve 4 sayısından daha büyüktür.\n"
        }
      ]
    },
    {
      "metadata": {
        "trusted": true
      },
      "cell_type": "code",
      "source": "not_degeri = int(input(\"not giriniz:\"))\nif 0<not_degeri<=49:\n    print(\"başarısız\")\nelif 50<=not_degeri<=64:\n    print(\"orta\")\nelif 65<=not_degeri<=84:\n    print(\"iyi\")\nelif 85<=not_degeri<=100:\n    print(\"çok iyi\")\nelse :\n    print(\"belirtilen aralıkta bir değer girilmedi\")\n",
      "execution_count": 8,
      "outputs": [
        {
          "output_type": "stream",
          "name": "stdout",
          "text": "not giriniz:60\norta\n"
        }
      ]
    },
    {
      "metadata": {
        "trusted": true
      },
      "cell_type": "code",
      "source": "a = int(input(\"a sayısını giriniz:\"))\nb = int(input(\"b sayısını giriniz:\"))\nc = int(input(\"c sayısını giriniz:\"))\na*x^2 + b*x + c \ndelta= b**2-4*a*c\nif delta<0:\n    print(\"reel kök yoktur.\")\nelif delta>0:\n    print(\"iki kök vardır.\")\n    koktop= -b/(2*a)\n    print(\"kökler toplamı\",koktop,\"dir\")\n    kok1 = (b+(delta**(1/2)))/(2*a)\n    kok2 = (b-(delta**(1/2)))/(2*a)\n    print(\"kök1\",kok1,\"kök2\",kok2)\nelse:\n    print(\"çakışık iki kök vardır.\")\n    koktop= -b/(2*a)\n    print(\"kökler toplamı\",koktop,\"dir\")\n    kok1 = (b+(delta**(1/2)))/(2*a)\n    kok2 = (b-(delta**(1/2)))/(2*a)\n    print(\"kök1\",kok1,\"kök2\",kok2)",
      "execution_count": 28,
      "outputs": [
        {
          "output_type": "stream",
          "name": "stdout",
          "text": "a sayısını giriniz:1\nb sayısını giriniz:5\nc sayısını giriniz:1\niki kök vardır.\nkökler toplamı -2.5 dir\nkök1 4.7912878474779195 kök2 0.20871215252208009\n"
        }
      ]
    },
    {
      "metadata": {
        "trusted": true
      },
      "cell_type": "code",
      "source": "maas = int(input(\"MAAŞ=\"))\ncocuk = int(input(\"ÇOCUK SAYISI:\"))\nparca = int(input(\"ÜRETİLEN PARÇA:\"))\nyardim = 0\nprim = 0\nif cocuk==0:\n    print(\"AİLE YARDIMI YOK\")\n    if 50<parca<=100:\n        prim=maas*0.10\n        maas=prim+yardim+maas\n        print(\"MAAŞ=\",maas)\n    elif 100<parca<=150  :\n        prim=maas*0.15\n        maas=prim+yardim+maas\n        print(\"MAAŞ=\",maas)\n    elif 150<parca<=200  :\n        prim=maas*0.20\n        maas=prim+yardm+maas\n        print(\"MAAŞ=\",maas)\nelif cocuk==1:\n    yardim=maas*0.05   \n    if 50<parca<=100:\n        prim=maas*0.10\n        maas=prim+yardim+maas\n        print(\"MAAŞ=\",maas)\n    elif 100<parca<=150  :\n        prim=maas*0.15\n        maas=prim+yardim+maas\n        print(\"MAAŞ=\",maas)\n    elif 150<parca<=200  :\n        prim=maas*0.20\n        maas=prim+yardim+maas\n        print(\"MAAŞ=\",maas)\nelif cocuk==2:\n    yardim=maas*0.10\n    if 50<parca<=100:\n        prim=maas*0.10\n        maas=prim+yardim+maas\n        print(\"MAAŞ=\",maas)\n    elif 100<parca<=150 :\n        prim=maas*0.15\n        maas=prim+yardim+maas\n        print(\"MAAŞ=\",maas)\n    elif 150<parca<=200  :\n        prim=maas*0.20\n        maas=prim+yardim+maas\n        print(\"MAAŞ=\",maas)\nelif cocuk==3 :\n    yardim=maas*0.15\n    if 50<parca<=100:\n        prim=maas*0.10\n        maas=prim+yardim+maas\n        print(\"MAAŞ=\",maas)\n    elif 100<parca<=150  :\n        prim=maas*0.15\n        maas=prim+yardim+maas\n        print(\"MAAŞ=\",maas)\n    elif 150<parca<=200  :\n        prim=maas*0.20\n        maas=prim+yardim+maas \n        print(\"MAAŞ=\",maas)\nelif cocuk>3:\n    yardim=maas*0.15\n    if 50<parca<=100:\n        prim=maas*0.10\n        maas=prim+yardim+maas\n        print(\"MAAŞ=\",maas)\n    elif 100<parca<=150  :\n        prim=maas*0.15\n        maas=prim+yardim+maas\n        print(\"MAAŞ=\",maas)\n    elif 150<parca<=200  :\n        prim=maas*0.20\n        maas=prim+yardim+maas \n        print(\"MAAŞ=\",maas)\nelse:\n    print(\"YANLIŞ DEĞERLER GİRİLDİ LÜTFEN GEÇERLİ DEĞERLER GİRİNİZ\")\n",
      "execution_count": null,
      "outputs": []
    },
    {
      "metadata": {
        "trusted": true
      },
      "cell_type": "code",
      "source": "",
      "execution_count": null,
      "outputs": []
    }
  ],
  "metadata": {
    "kernelspec": {
      "name": "python3",
      "display_name": "Python 3",
      "language": "python"
    },
    "language_info": {
      "mimetype": "text/x-python",
      "nbconvert_exporter": "python",
      "name": "python",
      "pygments_lexer": "ipython3",
      "version": "3.5.4",
      "file_extension": ".py",
      "codemirror_mode": {
        "version": 3,
        "name": "ipython"
      }
    }
  },
  "nbformat": 4,
  "nbformat_minor": 2
}