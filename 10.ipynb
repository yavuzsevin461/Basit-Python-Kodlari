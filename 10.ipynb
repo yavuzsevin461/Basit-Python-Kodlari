{
  "cells": [
    {
      "metadata": {
        "collapsed": true
      },
      "cell_type": "markdown",
      "source": "NESNE TABANLI PROGRAMLAMA ÖDEVİ I."
    },
    {
      "metadata": {
        "trusted": true
      },
      "cell_type": "code",
      "source": "class cep_telefonu():\n    def __init__(self,marka,uretim_yili,ekran_genisligi):\n        self.marka=marka\n        self.uretim_yili=uretim_yili\n        self.ekran_genisligi=ekran_genisligi\n        self.arama_ozelligi=True\n        self.mesaj_atma_ozelligi=True\n        self.fotograf_cekme_ozelligi=True\n        self.Rehber=[]\n    def Arama(self):\n        if self.arama_ozelligi==True:\n            a=int(input(\"Numarayı giriniz:\"))\n            print(a,\"ARANIYOR\")\n        else:\n            print(\"Arama özelliği cep telefonunuzda bulunmamaktadır.\")\n    def Mesaj_atma(self):\n        if self.mesaj_atma_ozelligi==True:\n            b=int(input(\"Numara giriniz:\"))\n            c=str(input(\"Mesajı giriniz:\"))\n            print(b,\"numarasına\",c,\"mesaji iletildi\")\n        else:\n            print(\"Mesaj atma özelliği cep telefonunuzda bulunmamaktadır.\")\n    def Yeni_telefon_numarasi_ekle(self):\n        numara=int(input(\"Numarayı giriniz:\"))\n        kontrol=0\n        for i in self.Rehber:\n            if i==numara:\n                print(\"Numara zaten kayıtlı.\")\n                kontrol=1\n        if kontrol==0:\n            self.Rehber.append(numara)       \n    def Telefon_rehberinde_numara_silme(self):\n        numara=int(input(\"Silinecek numarayı giriniz:\"))\n        kontrol=0\n        for i in range(0,len(self.Rehber)):\n            if self.Rehber[i]==numara:\n                self.Rehber.pop(i)\n                print(\"Numara silindi\")\n                kontrol=1\n                break\n        if kontrol==0:\n            print(\"Girdiğiniz nuamara kayıtlı değil.\")      \n    def Telefon_rehber_guncelle(self):\n        numara=int(input(\"Güncellenecek numarayı giriniz:\"))\n        kontrol=0\n        for i in range(0,len(self.Rehber)):\n            if self.Rehber[i]==numara:\n                self.Rehber[i]=int(input(\"Yeni numarayı giriniz:\"))\n                print(\"Rehber güncellendi...\")          ",
      "execution_count": 81,
      "outputs": []
    },
    {
      "metadata": {
        "trusted": true
      },
      "cell_type": "code",
      "source": "phone=cep_telefonu(\"trabzong\",2025,\"4.7inc\")",
      "execution_count": 82,
      "outputs": []
    },
    {
      "metadata": {
        "trusted": true
      },
      "cell_type": "code",
      "source": "phone.Arama()",
      "execution_count": 83,
      "outputs": [
        {
          "output_type": "stream",
          "name": "stdout",
          "text": "Numarayı giriniz:155\n155 ARANIYOR\n"
        }
      ]
    },
    {
      "metadata": {
        "trusted": true
      },
      "cell_type": "code",
      "source": "phone.Mesaj_atma()",
      "execution_count": 84,
      "outputs": [
        {
          "output_type": "stream",
          "name": "stdout",
          "text": "Numara giriniz:05558861661\nMesajı giriniz:HELLO BROTHER\n5558861661 numarasına HELLO BROTHER mesaji iletildi\n"
        }
      ]
    },
    {
      "metadata": {
        "trusted": true
      },
      "cell_type": "code",
      "source": "phone.Yeni_telefon_numarasi_ekle()",
      "execution_count": 85,
      "outputs": [
        {
          "output_type": "stream",
          "name": "stdout",
          "text": "Numarayı giriniz:110\n"
        }
      ]
    },
    {
      "metadata": {
        "trusted": true
      },
      "cell_type": "code",
      "source": "phone.Yeni_telefon_numarasi_ekle()",
      "execution_count": 86,
      "outputs": [
        {
          "output_type": "stream",
          "name": "stdout",
          "text": "Numarayı giriniz:112\n"
        }
      ]
    },
    {
      "metadata": {
        "trusted": true
      },
      "cell_type": "code",
      "source": "phone.Yeni_telefon_numarasi_ekle()",
      "execution_count": 87,
      "outputs": [
        {
          "output_type": "stream",
          "name": "stdout",
          "text": "Numarayı giriniz:177\n"
        }
      ]
    },
    {
      "metadata": {
        "trusted": true
      },
      "cell_type": "code",
      "source": "phone.Rehber",
      "execution_count": 88,
      "outputs": [
        {
          "output_type": "execute_result",
          "execution_count": 88,
          "data": {
            "text/plain": "[110, 112, 177]"
          },
          "metadata": {}
        }
      ]
    },
    {
      "metadata": {
        "trusted": true
      },
      "cell_type": "code",
      "source": "phone.Telefon_rehberinde_numara_silme()",
      "execution_count": 89,
      "outputs": [
        {
          "output_type": "stream",
          "name": "stdout",
          "text": "Silinecek numarayı giriniz:177\nNumara silindi\n"
        }
      ]
    },
    {
      "metadata": {
        "trusted": true
      },
      "cell_type": "code",
      "source": "phone.Rehber",
      "execution_count": 90,
      "outputs": [
        {
          "output_type": "execute_result",
          "execution_count": 90,
          "data": {
            "text/plain": "[110, 112]"
          },
          "metadata": {}
        }
      ]
    },
    {
      "metadata": {
        "trusted": true
      },
      "cell_type": "code",
      "source": "phone.Telefon_rehber_guncelle()",
      "execution_count": 91,
      "outputs": [
        {
          "output_type": "stream",
          "name": "stdout",
          "text": "Güncellenecek numarayı giriniz:112\nYeni numarayı giriniz:155\nRehber güncellendi...\n"
        }
      ]
    },
    {
      "metadata": {
        "trusted": true
      },
      "cell_type": "code",
      "source": "phone.Rehber",
      "execution_count": 92,
      "outputs": [
        {
          "output_type": "execute_result",
          "execution_count": 92,
          "data": {
            "text/plain": "[110, 155]"
          },
          "metadata": {}
        }
      ]
    },
    {
      "metadata": {
        "trusted": true
      },
      "cell_type": "code",
      "source": "",
      "execution_count": null,
      "outputs": []
    }
  ],
  "metadata": {
    "kernelspec": {
      "name": "python3",
      "display_name": "Python 3",
      "language": "python"
    },
    "language_info": {
      "mimetype": "text/x-python",
      "nbconvert_exporter": "python",
      "name": "python",
      "file_extension": ".py",
      "version": "3.5.4",
      "pygments_lexer": "ipython3",
      "codemirror_mode": {
        "version": 3,
        "name": "ipython"
      }
    }
  },
  "nbformat": 4,
  "nbformat_minor": 2
}