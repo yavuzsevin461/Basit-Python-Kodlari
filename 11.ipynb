{
  "cells": [
    {
      "cell_type": "code",
      "execution_count": 331,
      "metadata": {
        "trusted": true
      },
      "outputs": [],
      "source": [
        "file=open(\"Telefon_Rehberi.txt\",\"w\",encoding='utf-8')\n",
        "file.close()"
      ]
    },
    {
      "cell_type": "code",
      "execution_count": 332,
      "metadata": {
        "trusted": true
      },
      "outputs": [],
      "source": [
        "def Rehbere_Kisi_Ekle(ad,soyad,telefon,email):\n",
        "    with open(\"Telefon_Rehberi.txt\",\"a\",encoding='utf-8') as file:\n",
        "        file.write(ad)\n",
        "        file.write(\",\")\n",
        "        file.write(soyad)\n",
        "        file.write(\",\")\n",
        "        file.write(telefon)\n",
        "        file.write(\",\")\n",
        "        file.write(email)\n",
        "        file.write(\"\\n\")"
      ]
    },
    {
      "cell_type": "code",
      "execution_count": 333,
      "metadata": {
        "trusted": true
      },
      "outputs": [],
      "source": [
        "with open(\"Telefon_Rehberi.txt\",\"a\",encoding='utf-8') as file:\n",
        "    Rehbere_Kisi_Ekle(\"yavuz\",\"sevin\",\"5558861661\",\"yavuzsevin1661@gmail.com\")"
      ]
    },
    {
      "cell_type": "code",
      "execution_count": 334,
      "metadata": {
        "trusted": true
      },
      "outputs": [],
      "source": [
        "with open(\"Telefon_Rehberi.txt\",\"a\",encoding='utf-8') as file:\n",
        "    Rehbere_Kisi_Ekle(\"kemal\",\"yılmaz\",\"5554443322\",\"kyilmaz@outlook.com\")"
      ]
    },
    {
      "cell_type": "code",
      "execution_count": 335,
      "metadata": {
        "trusted": true
      },
      "outputs": [
        {
          "name": "stdout",
          "output_type": "stream",
          "text": [
            "yavuz,sevin,5558861661,yavuzsevin1661@gmail.com\n",
            "kemal,yılmaz,5554443322,kyilmaz@outlook.com\n",
            "\n"
          ]
        }
      ],
      "source": [
        "with open(\"Telefon_Rehberi.txt\",\"r\",encoding='utf-8') as file:\n",
        "    print(file.read())"
      ]
    },
    {
      "cell_type": "code",
      "execution_count": 336,
      "metadata": {
        "trusted": true
      },
      "outputs": [],
      "source": [
        "def Telefon_numarasi_bul(ad):\n",
        "    with open(\"Telefon_Rehberi.txt\",\"r\",encoding='utf-8') as file:\n",
        "        satir=csv.reader(file)\n",
        "        for i in satir:\n",
        "            if ad == i[0]:\n",
        "                print(i[2])\n",
        "                    "
      ]
    },
    {
      "cell_type": "code",
      "execution_count": 337,
      "metadata": {
        "trusted": true
      },
      "outputs": [
        {
          "name": "stdout",
          "output_type": "stream",
          "text": [
            "5558861661\n"
          ]
        }
      ],
      "source": [
        "with open(\"Telefon_Rehberi.txt\",\"r\",encoding='utf-8') as file:\n",
        "    Telefon_numarasi_bul(\"yavuz\")"
      ]
    },
    {
      "cell_type": "code",
      "execution_count": 338,
      "metadata": {
        "trusted": true
      },
      "outputs": [
        {
          "name": "stdout",
          "output_type": "stream",
          "text": [
            "5554443322\n"
          ]
        }
      ],
      "source": [
        "with open(\"Telefon_Rehberi.txt\",\"r\",encoding='utf-8') as file:\n",
        "    Telefon_numarasi_bul(\"kemal\")"
      ]
    },
    {
      "cell_type": "code",
      "execution_count": 339,
      "metadata": {
        "trusted": true
      },
      "outputs": [],
      "source": [
        "def Telefon_numarasi_güncelle(ad,telefon):\n",
        "    with open(\"Telefon_Rehberi.txt\",\"r+\",encoding='utf-8') as file:\n",
        "        satir=csv.reader(file)\n",
        "        for i in satir:\n",
        "            if ad == i[0]:\n",
        "                i[2]=[]\n",
        "                a=telefon\n",
        "                i[2]=a\n",
        "                print(i[0],i[2])\n",
        "            "
      ]
    },
    {
      "cell_type": "code",
      "execution_count": 340,
      "metadata": {
        "trusted": true
      },
      "outputs": [
        {
          "name": "stdout",
          "output_type": "stream",
          "text": [
            "kemal 555222\n"
          ]
        }
      ],
      "source": [
        "with open(\"Telefon_Rehberi.txt\",\"a\",encoding='utf-8') as file:\n",
        "    Telefon_numarasi_güncelle(\"kemal\",555222)"
      ]
    },
    {
      "cell_type": "code",
      "execution_count": 341,
      "metadata": {
        "trusted": true
      },
      "outputs": [
        {
          "name": "stdout",
          "output_type": "stream",
          "text": [
            "5554443322\n"
          ]
        }
      ],
      "source": [
        "with open(\"Telefon_Rehberi.txt\",\"r\",encoding='utf-8') as file:\n",
        "    Telefon_numarasi_bul(\"kemal\")"
      ]
    },
    {
      "cell_type": "code",
      "execution_count": 342,
      "metadata": {
        "trusted": true
      },
      "outputs": [],
      "source": [
        "def Tum_Rehberi_Goster():\n",
        "    with open(\"Telefon_Rehberi.txt\",\"r\",encoding='utf-8') as file:\n",
        "        print(file.read())"
      ]
    },
    {
      "cell_type": "code",
      "execution_count": 343,
      "metadata": {
        "trusted": true
      },
      "outputs": [
        {
          "name": "stdout",
          "output_type": "stream",
          "text": [
            "yavuz,sevin,5558861661,yavuzsevin1661@gmail.com\n",
            "kemal,yılmaz,5554443322,kyilmaz@outlook.com\n",
            "\n"
          ]
        }
      ],
      "source": [
        "with open(\"Telefon_Rehberi.txt\",\"r+\",encoding='utf-8') as file:\n",
        "    Tum_Rehberi_Goster()"
      ]
    },
    {
      "cell_type": "code",
      "execution_count": null,
      "metadata": {
        "trusted": true
      },
      "outputs": [],
      "source": []
    }
  ],
  "metadata": {
    "kernelspec": {
      "display_name": "Python 3",
      "language": "python",
      "name": "python3"
    },
    "language_info": {
      "codemirror_mode": {
        "name": "ipython",
        "version": 3
      },
      "file_extension": ".py",
      "mimetype": "text/x-python",
      "name": "python",
      "nbconvert_exporter": "python",
      "pygments_lexer": "ipython3",
      "version": "3.5.4"
    }
  },
  "nbformat": 4,
  "nbformat_minor": 2
}
