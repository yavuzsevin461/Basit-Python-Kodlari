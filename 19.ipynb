{
  "cells": [
    {
      "metadata": {
        "trusted": true
      },
      "cell_type": "code",
      "source": "maas = int(input(\"MAAŞ=\"))\ncocuk = int(input(\"ÇOCUK SAYISI:\"))\nparca = int(input(\"ÜRETİLEN PARÇA:\"))\nyardim = 0\nprim = 0\nif cocuk==0:\n    print(\"AİLE YARDIMI YOK\")\n    if 50<parca<=100:\n        prim=maas*0.10\n        maas=prim+yardim+maas\n        print(\"MAAŞ=\",maas)\n    elif 100<parca<=150  :\n        prim=maas*0.15\n        maas=prim+yardim+maas\n        print(\"MAAŞ=\",maas)\n    elif 150<parca<=200  :\n        prim=maas*0.20\n        maas=prim+yardm+maas\n        print(\"MAAŞ=\",maas)\nelif cocuk==1:\n    yardim=maas*0.05   \n    if 50<parca<=100:\n        prim=maas*0.10\n        maas=prim+yardim+maas\n        print(\"MAAŞ=\",maas)\n    elif 100<parca<=150  :\n        prim=maas*0.15\n        maas=prim+yardim+maas\n        print(\"MAAŞ=\",maas)\n    elif 150<parca<=200  :\n        prim=maas*0.20\n        maas=prim+yardim+maas\n        print(\"MAAŞ=\",maas)\nelif cocuk==2:\n    yardim=maas*0.10\n    if 50<parca<=100:\n        prim=maas*0.10\n        maas=prim+yardim+maas\n        print(\"MAAŞ=\",maas)\n    elif 100<parca<=150 :\n        prim=maas*0.15\n        maas=prim+yardim+maas\n        print(\"MAAŞ=\",maas)\n    elif 150<parca<=200  :\n        prim=maas*0.20\n        maas=prim+yardim+maas\n        print(\"MAAŞ=\",maas)\nelif cocuk==3 :\n    yardim=maas*0.15\n    if 50<parca<=100:\n        prim=maas*0.10\n        maas=prim+yardim+maas\n        print(\"MAAŞ=\",maas)\n    elif 100<parca<=150  :\n        prim=maas*0.15\n        maas=prim+yardim+maas\n        print(\"MAAŞ=\",maas)\n    elif 150<parca<=200  :\n        prim=maas*0.20\n        maas=prim+yardim+maas \n        print(\"MAAŞ=\",maas)\nelif cocuk>3:\n    yardim=maas*0.15\n    if 50<parca<=100:\n        prim=maas*0.10\n        maas=prim+yardim+maas\n        print(\"MAAŞ=\",maas)\n    elif 100<parca<=150  :\n        prim=maas*0.15\n        maas=prim+yardim+maas\n        print(\"MAAŞ=\",maas)\n    elif 150<parca<=200  :\n        prim=maas*0.20\n        maas=prim+yardim+maas \n        print(\"MAAŞ=\",maas)\nelse:\n    print(\"YANLIŞ DEĞERLER GİRİLDİ LÜTFEN GEÇERLİ DEĞERLER GİRİNİZ\")\n",
      "execution_count": 1,
      "outputs": [
        {
          "output_type": "stream",
          "name": "stdout",
          "text": "MAAŞ=2000\nÇOCUK SAYISI:3\nÜRETİLEN PARÇA:5\n"
        }
      ]
    },
    {
      "metadata": {
        "trusted": true
      },
      "cell_type": "code",
      "source": "gelir = int(input(\"geliri giriniz:\"))\nvergi = 0 \nif 0<=gelir<=150000:\n    vergi = vergi+gelir*0.25\n    print(\"vergi geliri=\",vergi)\nelif 150000<gelir<=300000:\n    vergi = vergi+150000*0.25+(gelir-150000)*0.30\n    print(\"vergi geliri=\",vergi)\nelif 300000<gelir<=600000:\n    vergi = vergi+150000*0.25+150000*0.30+(gelir-300000)*0.35\n    print(\"vergi geliri=\",vergi)\nelif 600000<gelir<=1200000:\n    vergi = vergi+150000*0.25+150000*0.30+300000*0.35+(gelir-600000)*0.40\n    print(\"vergi geliri=\",vergi)\nelif gelir>1200000:\n    vergi = vergi+150000*0.25+150000*0.30+300000*0.35+600000*0.40+(gelir-1200000)*0.50\n    print(\"vergi geliri=\",vergi)\nelse:\n    print(\"istenen aralıkta değerler girilmedi.\")",
      "execution_count": 1,
      "outputs": [
        {
          "output_type": "stream",
          "name": "stdout",
          "text": "geliri giriniz:1200564\nvergi geliri= 427782.0\n"
        }
      ]
    },
    {
      "metadata": {
        "trusted": true
      },
      "cell_type": "code",
      "source": "sayi=0\nx=[1,2,3,4,5,6,7,8,9,10]\nfor sayi in x:\n    print(\"sayı\",sayi)\n    sayi=sayi+1\n    \n    \n    ",
      "execution_count": 20,
      "outputs": [
        {
          "output_type": "stream",
          "text": "sayı 1\nsayı 2\nsayı 3\nsayı 4\nsayı 5\nsayı 6\nsayı 7\nsayı 8\nsayı 9\nsayı 10\n",
          "name": "stdout"
        }
      ]
    },
    {
      "metadata": {
        "trusted": true
      },
      "cell_type": "code",
      "source": "x=1\ny=int(input(\"bir sayı giriniz:\"))\nliste=[]\nfor x in range(1,y):\n    liste.append(x)\ntop = sum(liste)\nprint(\"1den\",y,\"e kadar olan sayıların toplamı=\",top)",
      "execution_count": 25,
      "outputs": [
        {
          "output_type": "stream",
          "name": "stdout",
          "text": "bir sayı giriniz:6\n1den 6 e kadar olan sayıların toplamı= 15\n"
        }
      ]
    },
    {
      "metadata": {
        "trusted": true
      },
      "cell_type": "code",
      "source": "x=int(input(\"bir x sayısı giriniz:\"))\nfak=1\nfor a in range(1,x+1,1):\n    fak=a*fak\nprint(fak)",
      "execution_count": 63,
      "outputs": [
        {
          "output_type": "stream",
          "name": "stdout",
          "text": "bir x sayısı giriniz:5\n120\n"
        }
      ]
    },
    {
      "metadata": {
        "trusted": true
      },
      "cell_type": "code",
      "source": "x=int(input(\"bir x sayısı giriniz:\"))\nliste=()\nfor eleman in range(x):\n    liste.append(x)\n    sum(liste)\nprint(liste)\n",
      "execution_count": null,
      "outputs": []
    },
    {
      "metadata": {
        "trusted": true
      },
      "cell_type": "code",
      "source": "",
      "execution_count": null,
      "outputs": []
    }
  ],
  "metadata": {
    "kernelspec": {
      "name": "python3",
      "display_name": "Python 3",
      "language": "python"
    },
    "language_info": {
      "mimetype": "text/x-python",
      "nbconvert_exporter": "python",
      "name": "python",
      "file_extension": ".py",
      "version": "3.5.4",
      "pygments_lexer": "ipython3",
      "codemirror_mode": {
        "version": 3,
        "name": "ipython"
      }
    }
  },
  "nbformat": 4,
  "nbformat_minor": 2
}