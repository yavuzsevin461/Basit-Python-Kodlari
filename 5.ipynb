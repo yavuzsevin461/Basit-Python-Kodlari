{
  "cells": [
    {
      "cell_type": "code",
      "execution_count": 4,
      "metadata": {
        "trusted": true
      },
      "outputs": [],
      "source": [
        "class cep_telefonu():\n",
        "    def __init__(self,marka,uretim_yili,ekran_genisligi,arama_ozelligi,mesaj_atma_ozelligi,fotograf_cekme_ozelligi):\n",
        "        self.marka=marka\n",
        "        self.uretim_yili=yil\n",
        "        self.ekran_genisligi=genislik\n",
        "        self.arama_ozelligi=a_ozelligi\n",
        "        self.mesaj_atma_ozelligi=m_ozelligi\n",
        "        self.fotograf_cekme_ozelligi=fotograf_cekme\n",
        "        kisiler=[]\n",
        "        \n",
        "    def kisiler_ekle(self):\n",
        "        numara=int(input(\"Giriniz\"))\n",
        "        if numara in self.kisiler:\n",
        "            print(\"Kayıtlı\")\n",
        "        else:\n",
        "            self.kisiler.append(numara)\n",
        "            print(\"Eklendi\")\n",
        "            \n",
        "    def kisilerden_sil(self):\n",
        "        silinen=int(input(\"Giriniz\"))\n",
        "        if silinen in self.kisiler:\n",
        "            self.kisiler.remove(silinen)\n",
        "            print(\"Silindi\")\n",
        "        else:\n",
        "            print(\"kayıtlı degil\")\n",
        "            \n",
        "    def arama(self):\n",
        "        if self.a_ozelligi==True:\n",
        "            x=int(input(\"Giriniz\"))\n",
        "            print(x,\"aranıyor\")\n",
        "        else:\n",
        "            print(\"aranamadı\")\n",
        "            \n",
        "    def mesaj_atma(self):\n",
        "        if self.m_ozelligi==True:\n",
        "            y=int(input(\"Numara\"))\n",
        "            z=input(\"Giriniz=\")\n",
        "            print(x,\"numarasına\",b,\"gönderildi\")\n",
        "        else:\n",
        "            print(\"özellik yoktur\")\n",
        "        \n",
        "            print(\"aranamadı\")"
      ]
    },
    {
      "cell_type": "code",
      "execution_count": null,
      "metadata": {
        "trusted": true
      },
      "outputs": [],
      "source": []
    }
  ],
  "metadata": {
    "kernelspec": {
      "display_name": "Python 3",
      "language": "python",
      "name": "python3"
    },
    "language_info": {
      "codemirror_mode": {
        "name": "ipython",
        "version": 3
      },
      "file_extension": ".py",
      "mimetype": "text/x-python",
      "name": "python",
      "nbconvert_exporter": "python",
      "pygments_lexer": "ipython3",
      "version": "3.5.4"
    }
  },
  "nbformat": 4,
  "nbformat_minor": 2
}
