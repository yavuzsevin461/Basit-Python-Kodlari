{
  "cells": [
    {
      "metadata": {
        "trusted": true
      },
      "cell_type": "code",
      "source": "ogr= int(input(\"öğrenci sayısını giriniz\"))\nara_im=list()\naitop=0\nquiz=list()\nqtop=0\nfinal=list()\nftop=0\ntum_note=list()\nfor ai in range(ogr):\n    ai=int(input(\"ara imtihan notu girin:\"))\n    aitop= ai+aitop\n    ara_im.append(ai)\nyuzot=aitop*0.3\nfor q in range(ogr):\n    q=int(input(\"quiz imtihan notu girin:\"))\n    qtop=q+qtop\n    quiz.append(q)\nyuzyi=qtop*0.2\nfor f in range(ogr):\n    f=int(input(\"final notu girin:\"))\n    ftop= f+ftop\n    final.append(f)\nyuzel=ftop*0.5\nort=yuzot+yuzel+yuzyi\nprint(\"ort\",ort)",
      "execution_count": 9,
      "outputs": [
        {
          "output_type": "stream",
          "name": "stdout",
          "text": "öğrenci sayısını giriniz1\nara imtihan notu girin:60\nquiz imtihan notu girin:40\nfinal notu girin:100\nort 76.0\n"
        }
      ]
    },
    {
      "metadata": {},
      "cell_type": "markdown",
      "source": "ogrenci=[[10,25,30],[11,50,70],[50,70,80],[23,55,77]]\nara imtihan 30 quiz20 final50 olarak hesaplayınız.\nlistedeki notlara göre sınıf ortalamasını hespalayınız ekrana yazınız."
    },
    {
      "metadata": {
        "trusted": true
      },
      "cell_type": "code",
      "source": "ogrenci=[[10,25,30],[11,50,70],[50,70,80],[23,55,77]]\ntop=0\nfor (i,j,k) in ogrenci:\n    top= top+i*0.3+j*0.2+k*0.5\nprint(top/4)\n    ",
      "execution_count": 27,
      "outputs": [
        {
          "output_type": "stream",
          "text": "49.175000000000004\n",
          "name": "stdout"
        }
      ]
    },
    {
      "metadata": {},
      "cell_type": "markdown",
      "source": "break::::>>>>döngüyü tamamla demek bitir demek."
    },
    {
      "metadata": {},
      "cell_type": "markdown",
      "source": "kullanıcıdan sayı girilmesini isteyin sayı 23 ise programı durdurup kaç tane sayı girildigini yazmasını isteyiniz."
    },
    {
      "metadata": {
        "trusted": true
      },
      "cell_type": "code",
      "source": "s=0\nsayi=int(input(\"sayı giriniz\"))\nwhile (sayi):\n    s=s+1\n    if sayi==23:\n        break\n    sayi=int(input(\"sayı girin\"))\nprint(s,\"sayı girdiniz\")",
      "execution_count": null,
      "outputs": []
    },
    {
      "metadata": {
        "trusted": true
      },
      "cell_type": "code",
      "source": "",
      "execution_count": null,
      "outputs": []
    }
  ],
  "metadata": {
    "kernelspec": {
      "name": "python3",
      "display_name": "Python 3",
      "language": "python"
    },
    "language_info": {
      "mimetype": "text/x-python",
      "nbconvert_exporter": "python",
      "name": "python",
      "pygments_lexer": "ipython3",
      "version": "3.5.4",
      "file_extension": ".py",
      "codemirror_mode": {
        "version": 3,
        "name": "ipython"
      }
    }
  },
  "nbformat": 4,
  "nbformat_minor": 2
}