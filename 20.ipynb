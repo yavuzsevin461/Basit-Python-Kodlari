{
  "cells": [
    {
      "cell_type": "markdown",
      "metadata": {},
      "source": [
        "Stringi argüman alıp, stringin uzunluğunu hesaplayıp ekran yazan Python fonksiyonu\n",
        "yazınız."
      ]
    },
    {
      "cell_type": "code",
      "execution_count": 4,
      "metadata": {
        "trusted": true
      },
      "outputs": [],
      "source": [
        "def fonk1():\n",
        "    x= str(input(\"bir sey giriniz:\"))\n",
        "    print(len(x))"
      ]
    },
    {
      "cell_type": "code",
      "execution_count": 7,
      "metadata": {
        "trusted": true
      },
      "outputs": [
        {
          "name": "stdout",
          "output_type": "stream",
          "text": [
            "bir sey giriniz:trabzonspor\n",
            "11\n"
          ]
        }
      ],
      "source": [
        "fonk1()\n"
      ]
    },
    {
      "cell_type": "markdown",
      "metadata": {},
      "source": [
        "Bir otoparkta araçlar için saat başına ayrı ayrı ücretlendirme yapılmaktadır. Bütün tip\n",
        "araçlar için giriş ücreti 3 TL. Saat Ücreti Otomobiller için 1 TL, Minübüsler için 2 TL,\n",
        "Kamyon ve Otobüsler için 4 TL'dir. Ayrıca park süresi 5 saati aşarsa %25 indirim\n",
        "yapılmaktadır. Ücretlere %18 K.D.V. eklenmektedir. Gün içerisinde 100 adet araç\n",
        "geldiği varsayılarak, 100 aracın her birisinin ödemesi gereken tutarın ve gün sonunda\n",
        "toplam tutarı hesaplayıp ekranda gösteren programı Python ile yazınız. "
      ]
    },
    {
      "cell_type": "code",
      "execution_count": 1,
      "metadata": {
        "trusted": true
      },
      "outputs": [
        {
          "name": "stdout",
          "output_type": "stream",
          "text": [
            "araç tipini giriniz 1otomobil,2minibüs,3kamyon veya otobüs:2\n",
            "içerde kalınan saati giriniz:5\n",
            "araç tipini giriniz 1otomobil,2minibüs,3kamyon veya otobüs:6\n",
            "içerde kalınan saati giriniz:2\n",
            "araç tipini giriniz 1otomobil,2minibüs,3kamyon veya otobüs:5\n",
            "içerde kalınan saati giriniz:9\n",
            "araç tipini giriniz 1otomobil,2minibüs,3kamyon veya otobüs:9\n",
            "içerde kalınan saati giriniz:5\n",
            "araç tipini giriniz 1otomobil,2minibüs,3kamyon veya otobüs:4\n",
            "içerde kalınan saati giriniz:5\n",
            "araç tipini giriniz 1otomobil,2minibüs,3kamyon veya otobüs:4\n",
            "içerde kalınan saati giriniz:\n"
          ]
        },
        {
          "ename": "ValueError",
          "evalue": "invalid literal for int() with base 10: ''",
          "output_type": "error",
          "traceback": [
            "\u001b[0;31m---------------------------------------------------------------------------\u001b[0m",
            "\u001b[0;31mValueError\u001b[0m                                Traceback (most recent call last)",
            "\u001b[0;32m<ipython-input-1-7811e9e55657>\u001b[0m in \u001b[0;36m<module>\u001b[0;34m()\u001b[0m\n\u001b[1;32m      6\u001b[0m \u001b[0;32mwhile\u001b[0m \u001b[0mx\u001b[0m\u001b[0;34m<\u001b[0m\u001b[0;36m100\u001b[0m\u001b[0;34m:\u001b[0m\u001b[0;34m\u001b[0m\u001b[0m\n\u001b[1;32m      7\u001b[0m     \u001b[0marac\u001b[0m\u001b[0;34m=\u001b[0m\u001b[0mint\u001b[0m\u001b[0;34m(\u001b[0m\u001b[0minput\u001b[0m\u001b[0;34m(\u001b[0m\u001b[0;34m\"araç tipini giriniz 1otomobil,2minibüs,3kamyon veya otobüs:\"\u001b[0m\u001b[0;34m)\u001b[0m\u001b[0;34m)\u001b[0m\u001b[0;34m\u001b[0m\u001b[0m\n\u001b[0;32m----> 8\u001b[0;31m     \u001b[0msaat\u001b[0m\u001b[0;34m=\u001b[0m\u001b[0mint\u001b[0m\u001b[0;34m(\u001b[0m\u001b[0minput\u001b[0m\u001b[0;34m(\u001b[0m\u001b[0;34m\"içerde kalınan saati giriniz:\"\u001b[0m\u001b[0;34m)\u001b[0m\u001b[0;34m)\u001b[0m\u001b[0;34m\u001b[0m\u001b[0m\n\u001b[0m\u001b[1;32m      9\u001b[0m     \u001b[0mtutar\u001b[0m\u001b[0;34m=\u001b[0m\u001b[0;36m0\u001b[0m\u001b[0;34m\u001b[0m\u001b[0m\n\u001b[1;32m     10\u001b[0m     \u001b[0;32mif\u001b[0m \u001b[0marac\u001b[0m\u001b[0;34m==\u001b[0m\u001b[0;36m1\u001b[0m\u001b[0;34m:\u001b[0m\u001b[0;34m\u001b[0m\u001b[0m\n",
            "\u001b[0;31mValueError\u001b[0m: invalid literal for int() with base 10: ''"
          ]
        }
      ],
      "source": [
        "arac=int(input(\"araç tipini giriniz 1otomobil,2minibüs,3kamyon veya otobüs:\"))\n",
        "saat=int(input(\"içerde kalınan saati giriniz:\"))\n",
        "tutar=0\n",
        "liste=[]\n",
        "x=1\n",
        "while x<100:\n",
        "    arac=int(input(\"araç tipini giriniz 1otomobil,2minibüs,3kamyon veya otobüs:\"))\n",
        "    saat=int(input(\"içerde kalınan saati giriniz:\"))\n",
        "    tutar=0\n",
        "    if arac==1:\n",
        "        if saat>5:\n",
        "            tutar=((tutar+saat*1)*(0.75))*0.18\n",
        "            print(tutar)\n",
        "            x=x+1\n",
        "            liste.append(tutar)\n",
        "        else :\n",
        "            tutar=((tutar+saat*1))*0.18\n",
        "            print(tutar)\n",
        "            x=x+1\n",
        "            liste.append(tutar)\n",
        "        print(tutar)\n",
        "    elif arac==2:\n",
        "        if saat>5:\n",
        "            tutar=((tutar+saat*2)*(0.75))*0.18\n",
        "            print(tutar)\n",
        "            x=x+1\n",
        "            liste.append(tutar)\n",
        "        else :\n",
        "            tutar=((tutar+saat*2))*0.18\n",
        "            print(tutar)\n",
        "            x=x+1\n",
        "            liste.append(tutar)\n",
        "        print(tutar)\n",
        "    elif arac==3:\n",
        "        if saat>5:\n",
        "            tutar=((tutar+saat*4)*(0.75))*0.18\n",
        "            print(tutar)\n",
        "            x=x+1\n",
        "            liste.append(tutar)\n",
        "        else :\n",
        "            tutar=((tutar+saat*4))*0.18\n",
        "            print(tutar)\n",
        "            x=x+1\n",
        "            liste.append(tutar)\n",
        "        print(tutar)\n",
        "print(liste)\n",
        "        "
      ]
    },
    {
      "cell_type": "code",
      "execution_count": null,
      "metadata": {
        "trusted": true
      },
      "outputs": [],
      "source": []
    }
  ],
  "metadata": {
    "kernelspec": {
      "display_name": "Python 3",
      "language": "python",
      "name": "python3"
    },
    "language_info": {
      "codemirror_mode": {
        "name": "ipython",
        "version": 3
      },
      "file_extension": ".py",
      "mimetype": "text/x-python",
      "name": "python",
      "nbconvert_exporter": "python",
      "pygments_lexer": "ipython3",
      "version": "3.5.4"
    }
  },
  "nbformat": 4,
  "nbformat_minor": 2
}
