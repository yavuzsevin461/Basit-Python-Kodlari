{
  "cells": [
    {
      "cell_type": "markdown",
      "metadata": {
        "collapsed": true
      },
      "source": [
        "KOŞULLU DURUMLAR"
      ]
    },
    {
      "cell_type": "markdown",
      "metadata": {},
      "source": [
        "1 – Klavyeden girilen sayı için tek-çift kontrolü yapan programı yazınız."
      ]
    },
    {
      "cell_type": "code",
      "execution_count": null,
      "metadata": {
        "trusted": true
      },
      "outputs": [],
      "source": [
        "x = int(input(\"bir x sayısı giriniz:\"))\n",
        "if x%2==0 :\n",
        "    print(x,\"çift sayıdır\")\n",
        "else :\n",
        "    print(x,\"tek sayıdır\")\n"
      ]
    },
    {
      "cell_type": "markdown",
      "metadata": {},
      "source": [
        "2 – Klavyeden girilen 3 sayıdan en büyüğünü ekrana yazan programı yazınız."
      ]
    },
    {
      "cell_type": "code",
      "execution_count": null,
      "metadata": {
        "trusted": true
      },
      "outputs": [],
      "source": [
        "x = int(input(\"x sayısı giriniz:\"))\n",
        "y = int(input(\"y sayısı giriniz:\"))\n",
        "z = int(input(\"z sayısı giriniz:\"))\n",
        "if x>y and x>z:\n",
        "    print(x,\"sayısı\",y,\"ve\",z,\"sayısındandaha büyüktür.\")\n",
        "elif y>x and y>z:\n",
        "    print(y,\"sayısı\",x,\"ve\",z,\"sayısından daha büyüktür.\")\n",
        "elif z>x and z>y:\n",
        "    print(z,\"sayısı\",x,\"ve\",y,\"sayısından daha büyüktür.\")\n"
      ]
    },
    {
      "cell_type": "markdown",
      "metadata": {},
      "source": [
        "3 – Klavyeden bir not girilmesini isteyen ve bu not 0-49 arasındaysa “Başarısız”, 50-64 arasındaysa “Orta”, 65-84 arasındaysa “İyi”,\n",
        "85-100 arasındaysa “Çok iyi“ yazan programı yazınız."
      ]
    },
    {
      "cell_type": "code",
      "execution_count": null,
      "metadata": {
        "trusted": true
      },
      "outputs": [],
      "source": [
        "not_degeri = int(input(\"not giriniz:\"))\n",
        "if 0<not_degeri<=49:\n",
        "    print(\"başarısız\")\n",
        "elif 50<=not_degeri<=64:\n",
        "    print(\"orta\")\n",
        "elif 65<=not_degeri<=84:\n",
        "    print(\"iyi\")\n",
        "elif 85<=not_degeri<=100:\n",
        "    print(\"çok iyi\")\n",
        "else :\n",
        "    print(\"belirtilen aralıkta bir değer girilmedi\")\n"
      ]
    }
  ],
  "metadata": {
    "kernelspec": {
      "display_name": "Python 3",
      "language": "python",
      "name": "python3"
    },
    "language_info": {
      "codemirror_mode": {
        "name": "ipython",
        "version": 3
      },
      "file_extension": ".py",
      "mimetype": "text/x-python",
      "name": "python",
      "nbconvert_exporter": "python",
      "pygments_lexer": "ipython3",
      "version": "3.5.4"
    }
  },
  "nbformat": 4,
  "nbformat_minor": 2
}
