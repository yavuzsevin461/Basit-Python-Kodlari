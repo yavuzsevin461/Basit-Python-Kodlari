{
  "cells": [
    {
      "metadata": {
        "trusted": true
      },
      "cell_type": "code",
      "source": "names=['ali','hakan','yagmur','deniz']\nyears=[1998,2000,1998,1987]",
      "execution_count": 14,
      "outputs": []
    },
    {
      "metadata": {
        "trusted": true
      },
      "cell_type": "code",
      "source": "names.append('cenk')\nprint(names)",
      "execution_count": 15,
      "outputs": [
        {
          "output_type": "stream",
          "text": "['ali', 'hakan', 'yagmur', 'deniz', 'cenk']\n",
          "name": "stdout"
        }
      ]
    },
    {
      "metadata": {
        "trusted": true
      },
      "cell_type": "code",
      "source": "names.insert(0,'leyla')\nprint(names)",
      "execution_count": 16,
      "outputs": [
        {
          "output_type": "stream",
          "text": "['leyla', 'ali', 'hakan', 'yagmur', 'deniz', 'cenk']\n",
          "name": "stdout"
        }
      ]
    },
    {
      "metadata": {
        "trusted": true
      },
      "cell_type": "code",
      "source": "names.remove('deniz')\nprint(names)",
      "execution_count": 17,
      "outputs": [
        {
          "output_type": "stream",
          "text": "['leyla', 'ali', 'hakan', 'yagmur', 'cenk']\n",
          "name": "stdout"
        }
      ]
    },
    {
      "metadata": {
        "trusted": true
      },
      "cell_type": "code",
      "source": "var_mi='ali' in names\nprint(var_mi)",
      "execution_count": 19,
      "outputs": [
        {
          "output_type": "stream",
          "text": "True\n",
          "name": "stdout"
        }
      ]
    },
    {
      "metadata": {
        "trusted": true
      },
      "cell_type": "code",
      "source": "names.reverse()",
      "execution_count": 20,
      "outputs": []
    },
    {
      "metadata": {
        "trusted": true
      },
      "cell_type": "code",
      "source": "print(names)",
      "execution_count": 21,
      "outputs": [
        {
          "output_type": "stream",
          "text": "['cenk', 'yagmur', 'hakan', 'ali', 'leyla']\n",
          "name": "stdout"
        }
      ]
    },
    {
      "metadata": {
        "trusted": true
      },
      "cell_type": "code",
      "source": "names.sort()\nprint(names)",
      "execution_count": 22,
      "outputs": [
        {
          "output_type": "stream",
          "text": "['ali', 'cenk', 'hakan', 'leyla', 'yagmur']\n",
          "name": "stdout"
        }
      ]
    },
    {
      "metadata": {
        "trusted": true
      },
      "cell_type": "code",
      "source": "years.sort()\nprint(years)",
      "execution_count": 23,
      "outputs": [
        {
          "output_type": "stream",
          "text": "[1987, 1998, 1998, 2000]\n",
          "name": "stdout"
        }
      ]
    },
    {
      "metadata": {
        "trusted": true
      },
      "cell_type": "code",
      "source": "",
      "execution_count": null,
      "outputs": []
    }
  ],
  "metadata": {
    "kernelspec": {
      "name": "python3",
      "display_name": "Python 3",
      "language": "python"
    },
    "language_info": {
      "mimetype": "text/x-python",
      "nbconvert_exporter": "python",
      "name": "python",
      "file_extension": ".py",
      "version": "3.5.4",
      "pygments_lexer": "ipython3",
      "codemirror_mode": {
        "version": 3,
        "name": "ipython"
      }
    }
  },
  "nbformat": 4,
  "nbformat_minor": 2
}